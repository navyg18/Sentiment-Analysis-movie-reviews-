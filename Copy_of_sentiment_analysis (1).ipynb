{
  "cells": [
    {
      "cell_type": "markdown",
      "metadata": {
        "id": "UyKPtM68ntrB"
      },
      "source": [
        "# **SENTIMENT ANALYSIS ON MOVIE REVIEWS** "
      ]
    },
    {
      "cell_type": "code",
      "execution_count": null,
      "metadata": {
        "id": "pcjdFFblEuEA"
      },
      "outputs": [],
      "source": [
        "import numpy as np\n",
        "import pandas as pd\n",
        "import matplotlib.pyplot as plt\n",
        "import spacy\n",
        "import string\n",
        "import pickle\n",
        "from spacy.lang.en.stop_words import STOP_WORDS\n",
        "from spacy.lang.en import English\n",
        "from sklearn.feature_extraction.text import CountVectorizer,TfidfVectorizer\n",
        "from sklearn.metrics import accuracy_score, confusion_matrix, classification_report\n",
        "from sklearn.base import TransformerMixin \n",
        "from sklearn.pipeline import Pipeline\n",
        "from sklearn.svm import LinearSVC\n",
        "from sklearn.linear_model import LogisticRegression\n",
        "from sklearn.ensemble import RandomForestClassifier\n",
        "from sklearn.model_selection import train_test_split\n",
        "import matplotlib.pyplot as plt\n",
        "import seaborn as sns\n",
        "import sklearn"
      ]
    },
    {
      "cell_type": "code",
      "execution_count": null,
      "metadata": {
        "colab": {
          "base_uri": "https://localhost:8080/"
        },
        "id": "SGXjKJkBH77R",
        "outputId": "32a8ced4-8719-4e56-be68-d73cd53cc947"
      },
      "outputs": [
        {
          "output_type": "stream",
          "name": "stdout",
          "text": [
            "Mounted at /content/drive/\n"
          ]
        }
      ],
      "source": [
        "from google.colab import drive\n",
        "drive.mount('/content/drive/')"
      ]
    },
    {
      "cell_type": "code",
      "execution_count": null,
      "metadata": {
        "id": "Sg6OH5HOIEkB"
      },
      "outputs": [],
      "source": [
        "dataset = pd.read_csv('/content/drive/My Drive/Colab Notebooks/imdb_reviews.csv')"
      ]
    },
    {
      "cell_type": "code",
      "execution_count": null,
      "metadata": {
        "colab": {
          "base_uri": "https://localhost:8080/",
          "height": 206
        },
        "id": "wtO8frnBTLOO",
        "outputId": "ee5fa5a5-2e8c-4f51-ae46-f9a600d9d054"
      },
      "outputs": [
        {
          "output_type": "execute_result",
          "data": {
            "text/plain": [
              "                                              review sentiment\n",
              "0  One of the other reviewers has mentioned that ...  positive\n",
              "1  A wonderful little production. <br /><br />The...  positive\n",
              "2  I thought this was a wonderful way to spend ti...  positive\n",
              "3  Basically there's a family where a little boy ...  negative\n",
              "4  Petter Mattei's \"Love in the Time of Money\" is...  positive"
            ],
            "text/html": [
              "\n",
              "  <div id=\"df-50c1dfd1-6a91-4850-b314-ba8253f4dcd0\">\n",
              "    <div class=\"colab-df-container\">\n",
              "      <div>\n",
              "<style scoped>\n",
              "    .dataframe tbody tr th:only-of-type {\n",
              "        vertical-align: middle;\n",
              "    }\n",
              "\n",
              "    .dataframe tbody tr th {\n",
              "        vertical-align: top;\n",
              "    }\n",
              "\n",
              "    .dataframe thead th {\n",
              "        text-align: right;\n",
              "    }\n",
              "</style>\n",
              "<table border=\"1\" class=\"dataframe\">\n",
              "  <thead>\n",
              "    <tr style=\"text-align: right;\">\n",
              "      <th></th>\n",
              "      <th>review</th>\n",
              "      <th>sentiment</th>\n",
              "    </tr>\n",
              "  </thead>\n",
              "  <tbody>\n",
              "    <tr>\n",
              "      <th>0</th>\n",
              "      <td>One of the other reviewers has mentioned that ...</td>\n",
              "      <td>positive</td>\n",
              "    </tr>\n",
              "    <tr>\n",
              "      <th>1</th>\n",
              "      <td>A wonderful little production. &lt;br /&gt;&lt;br /&gt;The...</td>\n",
              "      <td>positive</td>\n",
              "    </tr>\n",
              "    <tr>\n",
              "      <th>2</th>\n",
              "      <td>I thought this was a wonderful way to spend ti...</td>\n",
              "      <td>positive</td>\n",
              "    </tr>\n",
              "    <tr>\n",
              "      <th>3</th>\n",
              "      <td>Basically there's a family where a little boy ...</td>\n",
              "      <td>negative</td>\n",
              "    </tr>\n",
              "    <tr>\n",
              "      <th>4</th>\n",
              "      <td>Petter Mattei's \"Love in the Time of Money\" is...</td>\n",
              "      <td>positive</td>\n",
              "    </tr>\n",
              "  </tbody>\n",
              "</table>\n",
              "</div>\n",
              "      <button class=\"colab-df-convert\" onclick=\"convertToInteractive('df-50c1dfd1-6a91-4850-b314-ba8253f4dcd0')\"\n",
              "              title=\"Convert this dataframe to an interactive table.\"\n",
              "              style=\"display:none;\">\n",
              "        \n",
              "  <svg xmlns=\"http://www.w3.org/2000/svg\" height=\"24px\"viewBox=\"0 0 24 24\"\n",
              "       width=\"24px\">\n",
              "    <path d=\"M0 0h24v24H0V0z\" fill=\"none\"/>\n",
              "    <path d=\"M18.56 5.44l.94 2.06.94-2.06 2.06-.94-2.06-.94-.94-2.06-.94 2.06-2.06.94zm-11 1L8.5 8.5l.94-2.06 2.06-.94-2.06-.94L8.5 2.5l-.94 2.06-2.06.94zm10 10l.94 2.06.94-2.06 2.06-.94-2.06-.94-.94-2.06-.94 2.06-2.06.94z\"/><path d=\"M17.41 7.96l-1.37-1.37c-.4-.4-.92-.59-1.43-.59-.52 0-1.04.2-1.43.59L10.3 9.45l-7.72 7.72c-.78.78-.78 2.05 0 2.83L4 21.41c.39.39.9.59 1.41.59.51 0 1.02-.2 1.41-.59l7.78-7.78 2.81-2.81c.8-.78.8-2.07 0-2.86zM5.41 20L4 18.59l7.72-7.72 1.47 1.35L5.41 20z\"/>\n",
              "  </svg>\n",
              "      </button>\n",
              "      \n",
              "  <style>\n",
              "    .colab-df-container {\n",
              "      display:flex;\n",
              "      flex-wrap:wrap;\n",
              "      gap: 12px;\n",
              "    }\n",
              "\n",
              "    .colab-df-convert {\n",
              "      background-color: #E8F0FE;\n",
              "      border: none;\n",
              "      border-radius: 50%;\n",
              "      cursor: pointer;\n",
              "      display: none;\n",
              "      fill: #1967D2;\n",
              "      height: 32px;\n",
              "      padding: 0 0 0 0;\n",
              "      width: 32px;\n",
              "    }\n",
              "\n",
              "    .colab-df-convert:hover {\n",
              "      background-color: #E2EBFA;\n",
              "      box-shadow: 0px 1px 2px rgba(60, 64, 67, 0.3), 0px 1px 3px 1px rgba(60, 64, 67, 0.15);\n",
              "      fill: #174EA6;\n",
              "    }\n",
              "\n",
              "    [theme=dark] .colab-df-convert {\n",
              "      background-color: #3B4455;\n",
              "      fill: #D2E3FC;\n",
              "    }\n",
              "\n",
              "    [theme=dark] .colab-df-convert:hover {\n",
              "      background-color: #434B5C;\n",
              "      box-shadow: 0px 1px 3px 1px rgba(0, 0, 0, 0.15);\n",
              "      filter: drop-shadow(0px 1px 2px rgba(0, 0, 0, 0.3));\n",
              "      fill: #FFFFFF;\n",
              "    }\n",
              "  </style>\n",
              "\n",
              "      <script>\n",
              "        const buttonEl =\n",
              "          document.querySelector('#df-50c1dfd1-6a91-4850-b314-ba8253f4dcd0 button.colab-df-convert');\n",
              "        buttonEl.style.display =\n",
              "          google.colab.kernel.accessAllowed ? 'block' : 'none';\n",
              "\n",
              "        async function convertToInteractive(key) {\n",
              "          const element = document.querySelector('#df-50c1dfd1-6a91-4850-b314-ba8253f4dcd0');\n",
              "          const dataTable =\n",
              "            await google.colab.kernel.invokeFunction('convertToInteractive',\n",
              "                                                     [key], {});\n",
              "          if (!dataTable) return;\n",
              "\n",
              "          const docLinkHtml = 'Like what you see? Visit the ' +\n",
              "            '<a target=\"_blank\" href=https://colab.research.google.com/notebooks/data_table.ipynb>data table notebook</a>'\n",
              "            + ' to learn more about interactive tables.';\n",
              "          element.innerHTML = '';\n",
              "          dataTable['output_type'] = 'display_data';\n",
              "          await google.colab.output.renderOutput(dataTable, element);\n",
              "          const docLink = document.createElement('div');\n",
              "          docLink.innerHTML = docLinkHtml;\n",
              "          element.appendChild(docLink);\n",
              "        }\n",
              "      </script>\n",
              "    </div>\n",
              "  </div>\n",
              "  "
            ]
          },
          "metadata": {},
          "execution_count": 4
        }
      ],
      "source": [
        "dataset.head()"
      ]
    },
    {
      "cell_type": "markdown",
      "metadata": {
        "id": "i1l0Do4ooBv_"
      },
      "source": [
        "# *DATA PREPROCESSING*"
      ]
    },
    {
      "cell_type": "code",
      "execution_count": null,
      "metadata": {
        "colab": {
          "base_uri": "https://localhost:8080/"
        },
        "id": "rXQqu5R-3-x7",
        "outputId": "7b8253ee-44dc-4246-90af-92069433c65d"
      },
      "outputs": [
        {
          "output_type": "execute_result",
          "data": {
            "text/plain": [
              "review       0\n",
              "sentiment    0\n",
              "dtype: int64"
            ]
          },
          "metadata": {},
          "execution_count": 5
        }
      ],
      "source": [
        "dataset.isnull().sum()"
      ]
    },
    {
      "cell_type": "code",
      "execution_count": null,
      "metadata": {
        "colab": {
          "base_uri": "https://localhost:8080/"
        },
        "id": "DYdaYtQ2UBqn",
        "outputId": "bc6a8366-06b4-401a-9efb-9018b39ae858"
      },
      "outputs": [
        {
          "output_type": "stream",
          "name": "stdout",
          "text": [
            "Rows: 2\n",
            "Columns: 50000\n"
          ]
        }
      ],
      "source": [
        "print(f'Rows: {dataset.shape[1]}\\nColumns: {dataset.shape[0]}')"
      ]
    },
    {
      "cell_type": "code",
      "execution_count": null,
      "metadata": {
        "id": "5WswtduGUGGN",
        "colab": {
          "base_uri": "https://localhost:8080/"
        },
        "outputId": "3b042c4c-645f-46d8-943b-2f2e0e141629"
      },
      "outputs": [
        {
          "output_type": "stream",
          "name": "stdout",
          "text": [
            "Columns Names: ['review', 'sentiment']\n"
          ]
        }
      ],
      "source": [
        "print(f'Columns Names: {list(dataset.columns)}')"
      ]
    },
    {
      "cell_type": "code",
      "execution_count": null,
      "metadata": {
        "colab": {
          "base_uri": "https://localhost:8080/"
        },
        "id": "t68Ni69RUXBt",
        "outputId": "7435e162-f557-4b0f-f04e-16e52ad7678c"
      },
      "outputs": [
        {
          "output_type": "stream",
          "name": "stdout",
          "text": [
            "stopwords:  ['beside', 'by', 'everything', 'his', 'yours', 'often', 'both', \"'d\", 'herself', 'hereby', 'ever', 'after', 'your', 'side', 'very', 'yet', 'part', 'what', 'somehow', 'during', 'still', 'therefore', 'latter', 'within', 'make', 'n’t', 'fifty', 'against', 'twelve', 'a', 'hereupon', 'should', '‘d', 'eleven', 'further', \"'s\", 'in', '‘ve', 'this', 'put', '’m', 'themselves', 'over', 'until', 'across', 'ours', 'less', 'cannot', 'myself', 'neither', 'behind', 'either', 'from', 'whenever', 'thru', 'someone', 'six', 'or', 'because', 'moreover', 'meanwhile', 'becoming', 'did', 'made', 'sixty', 'indeed', 'sometimes', 'several', 'we', \"'ll\", 'their', 'toward', 'even', \"'re\", 'per', 'thus', 'take', 'formerly', 'them', 'own', 'just', 'some', 'five', 'around', 'there', 'nor', 'he', 'now', 'used', 'down', 'it', 'had', 'done', 'amongst', 'least', 'ten', 'whatever', \"'m\", 'via', 'am', 'many', 'along', 'somewhere', 'therein', 'as', 'our', 'unless', 'where', 'do', 'here', 'into', 'twenty', 'to', 'anything', 'nowhere', 'may', 'among', 'n‘t', 'if', 'would', 'another', 'move', 'seemed', 'has', '’s', 'hence', 'get', 'enough', 'itself', 'well', 'rather', 'serious', 'how', 'himself', 'fifteen', 'are', 'please', 'seeming', 'before', 'why', 'due', 'front', '‘m', 'anyone', 'whom', 'also', 'became', 'call', 'bottom', 'no', 'beforehand', 'however', 'she', 'anyway', 'others', 'although', 'below', 'latterly', 'nevertheless', 'amount', 'much', 'ourselves', 'whereafter', 'i', 'yourself', 'must', 'anywhere', '’ll', 'but', 'through', 'quite', 'ca', 'can', '‘re', 'top', 'between', 'everywhere', 'than', 'off', 'thence', '’d', 'three', 'always', 'for', 'whoever', 'will', 'about', 'nobody', '‘s', 'various', 'keep', 'see', 'seem', 'except', 'whence', 'out', 'already', 'nine', 'forty', 'never', 'all', 'mine', 'more', 'herein', 'besides', 'whereby', 'whole', 'seems', 'beyond', 'under', 'almost', 'thereby', 'really', 'is', 'everyone', 'together', 'sometime', 'namely', 'that', 'hundred', 'same', 'any', '‘ll', 'last', 'anyhow', 'whereupon', 'go', 'on', 'then', 'none', 'me', 'be', 'noone', 'so', 'every', 'show', 'else', 'third', 'her', 'they', 'empty', 'say', 'my', 'us', 'nothing', 'alone', 'next', 'whither', 'other', 'throughout', 'onto', 'again', 'those', 'hers', 'one', 'such', 'perhaps', 'with', 'been', 'have', 'you', 're', 'regarding', 'too', 'full', 'wherein', 'though', 'back', 'name', 'most', 'whereas', 'few', 'up', \"'ve\", 'thereupon', 'without', 'once', 'were', 'above', 'former', 'could', 'while', 'whether', 'becomes', 'when', 'hereafter', '’re', \"n't\", 'afterwards', 'first', 'him', 'might', 'not', 'mostly', 'its', 'give', 'does', 'upon', 'at', 'each', 'and', 'wherever', 'these', 'using', 'was', 'yourselves', 'eight', 'doing', 'whose', 'four', 'otherwise', 'who', 'become', 'of', 'an', 'thereafter', 'elsewhere', 'since', 'only', 'towards', '’ve', 'two', 'something', 'the', 'which', 'being']\n",
            "\n",
            "\n",
            "punctuations:  !\"#$%&'()*+,-./:;<=>?@[\\]^_`{|}~\n"
          ]
        }
      ],
      "source": [
        "nlp = English()                     ##changed\n",
        "nlp = spacy.load(\"en_core_web_sm\")          ##to this\n",
        "stopwords = list(STOP_WORDS)\n",
        "punctuations = string.punctuation\n",
        "print( \"stopwords: \",stopwords)\n",
        "print('\\n')\n",
        "print(\"punctuations: \",punctuations)"
      ]
    },
    {
      "cell_type": "code",
      "execution_count": null,
      "metadata": {
        "id": "bwgcFHI1Uaz9"
      },
      "outputs": [],
      "source": [
        "def tokenizer(sentence):\n",
        "    mytokens = nlp(sentence)\n",
        "    mytokens = [ word.lemma_.lower().strip() if word.lemma_ != \"-PRON-\" else word.lower_ for word in mytokens ]\n",
        "    mytokens = [ word for word in mytokens if word not in stopwords and word not in punctuations ]\n",
        "    return mytokens   "
      ]
    },
    {
      "cell_type": "code",
      "execution_count": null,
      "metadata": {
        "id": "_uot6KxwUgXP"
      },
      "outputs": [],
      "source": [
        "class predictors(TransformerMixin):\n",
        "    def transform(self, X, **transform_params):\n",
        "        return [clean_text(text) for text in X]\n",
        "    def fit(self, X, y, **fit_params):\n",
        "        return self\n",
        "    def get_params(self, deep=True):\n",
        "        return {}\n",
        "\n",
        "# Basic function to clean the text \n",
        "def clean_text(text):     \n",
        "    return text.strip().lower()"
      ]
    },
    {
      "cell_type": "code",
      "execution_count": null,
      "metadata": {
        "colab": {
          "base_uri": "https://localhost:8080/"
        },
        "id": "eXa4jjWuUgbn",
        "outputId": "38060e9d-503a-446e-e16b-f484400327df"
      },
      "outputs": [
        {
          "output_type": "stream",
          "name": "stdout",
          "text": [
            "CountVectorizer(tokenizer=<function tokenizer at 0x7f74803cdb90>) TfidfVectorizer(tokenizer=<function tokenizer at 0x7f74803cdb90>)\n"
          ]
        }
      ],
      "source": [
        "vectorizer = CountVectorizer(tokenizer = tokenizer, ngram_range=(1,1)) \n",
        "tfvectorizer = TfidfVectorizer(tokenizer = tokenizer)\n",
        "print(vectorizer,tfvectorizer)"
      ]
    },
    {
      "cell_type": "markdown",
      "metadata": {
        "id": "qSFeR1PyockS"
      },
      "source": [
        "*MODEL TRAINING TESTING*"
      ]
    },
    {
      "cell_type": "code",
      "execution_count": null,
      "metadata": {
        "id": "RJw7lSz-Ukkm"
      },
      "outputs": [],
      "source": [
        "X = dataset['review']\n",
        "y = dataset['sentiment']\n",
        "X_train, X_test, y_train, y_test = train_test_split(X, y, test_size=0.2, random_state=77)"
      ]
    },
    {
      "cell_type": "markdown",
      "metadata": {
        "id": "BskjuzUsoVSZ"
      },
      "source": [
        "# *LOGISTIC REGRESSION*"
      ]
    },
    {
      "cell_type": "code",
      "execution_count": null,
      "metadata": {
        "colab": {
          "background_save": true,
          "base_uri": "https://localhost:8080/"
        },
        "id": "VYFaEseXUknd",
        "outputId": "bf7861c7-7f8b-4c5b-d1f7-0f97724651d6"
      },
      "outputs": [
        {
          "name": "stderr",
          "output_type": "stream",
          "text": [
            "/usr/local/lib/python3.7/dist-packages/sklearn/linear_model/_logistic.py:818: ConvergenceWarning: lbfgs failed to converge (status=1):\n",
            "STOP: TOTAL NO. of ITERATIONS REACHED LIMIT.\n",
            "\n",
            "Increase the number of iterations (max_iter) or scale the data as shown in:\n",
            "    https://scikit-learn.org/stable/modules/preprocessing.html\n",
            "Please also refer to the documentation for alternative solver options:\n",
            "    https://scikit-learn.org/stable/modules/linear_model.html#logistic-regression\n",
            "  extra_warning_msg=_LOGISTIC_SOLVER_CONVERGENCE_MSG,\n"
          ]
        },
        {
          "name": "stdout",
          "output_type": "stream",
          "text": [
            "Confusion Matrix:\n",
            "[[4413  638]\n",
            " [ 497 4452]]\n",
            "\n",
            "Classification Report:\n",
            "              precision    recall  f1-score   support\n",
            "\n",
            "    negative       0.90      0.87      0.89      5051\n",
            "    positive       0.87      0.90      0.89      4949\n",
            "\n",
            "    accuracy                           0.89     10000\n",
            "   macro avg       0.89      0.89      0.89     10000\n",
            "weighted avg       0.89      0.89      0.89     10000\n",
            "\n",
            "Accuracy: 88.64999999999999%\n",
            "Logistic Regression trained Model Saved\n"
          ]
        }
      ],
      "source": [
        "classifier = LogisticRegression()\n",
        "LRmodel = Pipeline([(\"cleaner\", predictors()),\n",
        "                 ('vectorizer', vectorizer),\n",
        "                 ('classifier', classifier)])\n",
        "\n",
        "# Train the Model\n",
        "LRmodel.fit(X_train,y_train)   \n",
        "LRpred = LRmodel.predict(X_test)\n",
        "print(f'Confusion Matrix:\\n{confusion_matrix(y_test,LRpred)}')\n",
        "print(f'\\nClassification Report:\\n{classification_report(y_test,LRpred)}')\n",
        "print(f'Accuracy: {accuracy_score(y_test,LRpred)*100}%')\n",
        "print('Logistic Regression trained Model Saved')"
      ]
    },
    {
      "cell_type": "markdown",
      "metadata": {
        "id": "DSqIbjFMomkz"
      },
      "source": [
        "# *DATA VISUALISATION*"
      ]
    },
    {
      "cell_type": "code",
      "execution_count": null,
      "metadata": {
        "colab": {
          "base_uri": "https://localhost:8080/"
        },
        "id": "lxhhFC_poj66",
        "outputId": "8e6ede21-a426-4f01-a2af-227363f12d70"
      },
      "outputs": [
        {
          "data": {
            "text/plain": [
              "array([[4413,  638],\n",
              "       [ 497, 4452]])"
            ]
          },
          "execution_count": 17,
          "metadata": {},
          "output_type": "execute_result"
        }
      ],
      "source": [
        "cm= confusion_matrix(y_test,LRpred)\n",
        "cm"
      ]
    },
    {
      "cell_type": "code",
      "execution_count": null,
      "metadata": {
        "id": "WL1F9I9IvIo7"
      },
      "outputs": [],
      "source": [
        "df1 = pd.DataFrame({'Actual': y_test, 'Predicted':LRpred})"
      ]
    },
    {
      "cell_type": "code",
      "execution_count": null,
      "metadata": {
        "colab": {
          "base_uri": "https://localhost:8080/",
          "height": 282
        },
        "id": "ukDg2HOtpANt",
        "outputId": "19aa026b-1883-4e54-d71d-0ffbafad69b6"
      },
      "outputs": [
        {
          "data": {
            "text/plain": [
              "<matplotlib.axes._subplots.AxesSubplot at 0x7f138bbaa410>"
            ]
          },
          "execution_count": 17,
          "metadata": {},
          "output_type": "execute_result"
        },
        {
          "data": {
            "image/png": "[encoded data removed]",
            "text/plain": [
              "<Figure size 432x288 with 2 Axes>"
            ]
          },
          "metadata": {},
          "output_type": "display_data"
        }
      ],
      "source": [
        "sns.heatmap(pd.DataFrame(cm), annot=True, cmap=\"YlOrRd\" ,fmt='g')"
      ]
    },
    {
      "cell_type": "code",
      "execution_count": null,
      "metadata": {
        "colab": {
          "base_uri": "https://localhost:8080/"
        },
        "id": "KqAgr7vHt3fQ",
        "outputId": "4ef9c2f5-21a2-4c23-c8c2-43ad9164d4dd"
      },
      "outputs": [
        {
          "data": {
            "text/plain": [
              "88.64999999999999"
            ]
          },
          "execution_count": 18,
          "metadata": {},
          "output_type": "execute_result"
        }
      ],
      "source": [
        "ac1=accuracy_score(y_test,LRpred)*100\n",
        "ac1"
      ]
    },
    {
      "cell_type": "code",
      "execution_count": null,
      "metadata": {
        "colab": {
          "base_uri": "https://localhost:8080/"
        },
        "id": "9IIsT-SmuRmh",
        "outputId": "552be595-8552-414b-8e39-1e653a1941ce"
      },
      "outputs": [
        {
          "data": {
            "text/plain": [
              "array([88.60556169, 88.69409304])"
            ]
          },
          "execution_count": 19,
          "metadata": {},
          "output_type": "execute_result"
        }
      ],
      "source": [
        "from sklearn.metrics import f1_score\n",
        "f1=f1_score(y_test,LRpred,average=None)*100\n",
        "f1"
      ]
    },
    {
      "cell_type": "markdown",
      "metadata": {
        "id": "TJloJpT2oxOI"
      },
      "source": [
        "# *SUPPORT VECTOR MACHINE*"
      ]
    },
    {
      "cell_type": "code",
      "execution_count": null,
      "metadata": {
        "colab": {
          "base_uri": "https://localhost:8080/"
        },
        "id": "z09SvhYi0Tic",
        "outputId": "6a0deb67-8753-4289-8c30-eec045048c97"
      },
      "outputs": [
        {
          "output_type": "stream",
          "name": "stderr",
          "text": [
            "/usr/local/lib/python3.7/dist-packages/sklearn/svm/_base.py:1208: ConvergenceWarning: Liblinear failed to converge, increase the number of iterations.\n",
            "  ConvergenceWarning,\n"
          ]
        },
        {
          "output_type": "stream",
          "name": "stdout",
          "text": [
            "Confusion Matrix:\n",
            "[[4348  703]\n",
            " [ 609 4340]]\n",
            "\n",
            "Classification Report:\n",
            "              precision    recall  f1-score   support\n",
            "\n",
            "    negative       0.88      0.86      0.87      5051\n",
            "    positive       0.86      0.88      0.87      4949\n",
            "\n",
            "    accuracy                           0.87     10000\n",
            "   macro avg       0.87      0.87      0.87     10000\n",
            "weighted avg       0.87      0.87      0.87     10000\n",
            "\n",
            "Accuracy: 86.88%\n",
            "LinearSVC trained Model Saved\n"
          ]
        }
      ],
      "source": [
        "SVCclassifier = LinearSVC()\n",
        "SVCmodel = Pipeline([(\"cleaner\", predictors()),\n",
        "                 ('vectorizer', vectorizer),\n",
        "                 ('classifier', SVCclassifier)])\n",
        "\n",
        "# Train the Model\n",
        "SVCmodel.fit(X_train,y_train)   \n",
        "SVCpred = SVCmodel.predict(X_test)\n",
        "print(f'Confusion Matrix:\\n{confusion_matrix(y_test,SVCpred)}')\n",
        "print(f'\\nClassification Report:\\n{classification_report(y_test,SVCpred)}')\n",
        "print(f'Accuracy: {accuracy_score(y_test,SVCpred)*100}%')\n",
        "print('LinearSVC trained Model Saved')"
      ]
    },
    {
      "cell_type": "markdown",
      "metadata": {
        "id": "CQ-k0VvLo5qO"
      },
      "source": [
        "*DATA VISUALISATION*"
      ]
    },
    {
      "cell_type": "code",
      "execution_count": null,
      "metadata": {
        "colab": {
          "base_uri": "https://localhost:8080/",
          "height": 182
        },
        "id": "QTmPhIE-uwQB",
        "outputId": "a769412f-744e-418a-9345-33dd27999cc6"
      },
      "outputs": [
        {
          "ename": "NameError",
          "evalue": "ignored",
          "output_type": "error",
          "traceback": [
            "\u001b[0;31m---------------------------------------------------------------------------\u001b[0m",
            "\u001b[0;31mNameError\u001b[0m                                 Traceback (most recent call last)",
            "\u001b[0;32m<ipython-input-1-51d9471d6df7>\u001b[0m in \u001b[0;36m<module>\u001b[0;34m()\u001b[0m\n\u001b[0;32m----> 1\u001b[0;31m \u001b[0mcm1\u001b[0m\u001b[0;34m=\u001b[0m \u001b[0mconfusion_matrix\u001b[0m\u001b[0;34m(\u001b[0m\u001b[0my_test\u001b[0m\u001b[0;34m,\u001b[0m\u001b[0mSVCpred\u001b[0m\u001b[0;34m)\u001b[0m\u001b[0;34m\u001b[0m\u001b[0;34m\u001b[0m\u001b[0m\n\u001b[0m\u001b[1;32m      2\u001b[0m \u001b[0mcm\u001b[0m\u001b[0;34m\u001b[0m\u001b[0;34m\u001b[0m\u001b[0m\n",
            "\u001b[0;31mNameError\u001b[0m: name 'confusion_matrix' is not defined"
          ]
        }
      ],
      "source": [
        "cm1= confusion_matrix(y_test,SVCpred)\n",
        "cm"
      ]
    },
    {
      "cell_type": "code",
      "execution_count": null,
      "metadata": {
        "colab": {
          "base_uri": "https://localhost:8080/",
          "height": 283
        },
        "id": "6YZ6xawwmOQj",
        "outputId": "8e960f9a-824c-47da-9e18-f68a4fa4c1df"
      },
      "outputs": [
        {
          "data": {
            "text/plain": [
              "<matplotlib.axes._subplots.AxesSubplot at 0x7fae35a5c290>"
            ]
          },
          "execution_count": 21,
          "metadata": {},
          "output_type": "execute_result"
        },
        {
          "data": {
            "image/png": "[encoded data removed]",
            "text/plain": [
              "<Figure size 432x288 with 2 Axes>"
            ]
          },
          "metadata": {},
          "output_type": "display_data"
        }
      ],
      "source": [
        "sns.heatmap(pd.DataFrame(cm1), annot=True, cmap=\"YlOrRd\" ,fmt='g')"
      ]
    },
    {
      "cell_type": "code",
      "execution_count": null,
      "metadata": {
        "id": "QfnPwkHOmUl-"
      },
      "outputs": [],
      "source": [
        "df1 = pd.DataFrame({'Actual': y_test, 'Predicted':SVCpred})"
      ]
    },
    {
      "cell_type": "code",
      "execution_count": null,
      "metadata": {
        "colab": {
          "base_uri": "https://localhost:8080/"
        },
        "id": "NwS60v4OmcNP",
        "outputId": "e5d37980-f6ef-4e2b-d36d-d9e479057da9"
      },
      "outputs": [
        {
          "data": {
            "text/plain": [
              "86.8"
            ]
          },
          "execution_count": 23,
          "metadata": {},
          "output_type": "execute_result"
        }
      ],
      "source": [
        "ac2=accuracy_score(y_test,SVCpred)*100\n",
        "ac2"
      ]
    },
    {
      "cell_type": "code",
      "execution_count": null,
      "metadata": {
        "colab": {
          "base_uri": "https://localhost:8080/"
        },
        "id": "C8GndFQtmmFK",
        "outputId": "b44f7e8d-12d2-485e-f525-6ad0f804b13c"
      },
      "outputs": [
        {
          "data": {
            "text/plain": [
              "array([86.82108626, 86.77884615])"
            ]
          },
          "execution_count": 24,
          "metadata": {},
          "output_type": "execute_result"
        }
      ],
      "source": [
        "from sklearn.metrics import f1_score\n",
        "f2=f1_score(y_test,SVCpred,average=None)*100\n",
        "f2"
      ]
    },
    {
      "cell_type": "markdown",
      "metadata": {
        "id": "N8yfLd24pHOH"
      },
      "source": [
        "*COMPARISON PLOTS*"
      ]
    },
    {
      "cell_type": "code",
      "execution_count": null,
      "metadata": {
        "id": "kw9pEUGwmt1-"
      },
      "outputs": [],
      "source": [
        "accuracy =  {ac1:'logistic regression', ac2:'SVC'}"
      ]
    },
    {
      "cell_type": "code",
      "execution_count": null,
      "metadata": {
        "colab": {
          "base_uri": "https://localhost:8080/",
          "height": 265
        },
        "id": "RuaKmkPnmt3q",
        "outputId": "03cb43d2-a1ed-4737-bbb7-68f214592613"
      },
      "outputs": [
        {
          "data": {
            "image/png": "[encoded data removed]",
            "text/plain": [
              "<Figure size 288x288 with 1 Axes>"
            ]
          },
          "metadata": {},
          "output_type": "display_data"
        }
      ],
      "source": [
        "plt.figure(figsize=(4, 4))\n",
        "model_accuracies = list(accuracy.values())\n",
        "model_names = list(accuracy.keys())\n",
        "sns.barplot(x=model_accuracies, y=model_names, palette='gist_rainbow');"
      ]
    },
    {
      "cell_type": "code",
      "execution_count": null,
      "metadata": {
        "colab": {
          "base_uri": "https://localhost:8080/",
          "height": 265
        },
        "id": "BSG4TWFWni69",
        "outputId": "9f7c15d3-3b22-4e11-b877-246c02b5b4ed"
      },
      "outputs": [
        {
          "data": {
            "image/png": "[encoded data removed]",
            "text/plain": [
              "<Figure size 288x288 with 1 Axes>"
            ]
          },
          "metadata": {},
          "output_type": "display_data"
        }
      ],
      "source": [
        "plt.figure(figsize=(4, 4))\n",
        "model_accuracies = list(accuracy.values())\n",
        "model_names = list(accuracy.keys())\n",
        "sns.barplot(x=model_accuracies, y=model_names, palette='gist_rainbow');"
      ]
    },
    {
      "cell_type": "markdown",
      "metadata": {
        "id": "Yp9mGc0OpM4Z"
      },
      "source": [
        "*SAMPLE TESTING*"
      ]
    },
    {
      "cell_type": "code",
      "execution_count": null,
      "metadata": {
        "colab": {
          "base_uri": "https://localhost:8080/"
        },
        "id": "bTjw9iT1Vvve",
        "outputId": "4d2a0bf2-4d6b-47ef-da04-dedceb03e481"
      },
      "outputs": [
        {
          "name": "stdout",
          "output_type": "stream",
          "text": [
            "Prediction: positive\n"
          ]
        }
      ],
      "source": [
        "pre = LRmodel.predict([\"Henry cavill nailed the role perfectly. The fight scenes, the music, the cinematography, the whole atmosphere is beyond amazing. Netflix did it again\"])\n",
        "print(f'Prediction: {pre[0]}')"
      ]
    },
    {
      "cell_type": "code",
      "execution_count": null,
      "metadata": {
        "colab": {
          "base_uri": "https://localhost:8080/"
        },
        "id": "ytOoL9WUVl6W",
        "outputId": "adb45205-6616-443a-96bc-cd5eb512aba8"
      },
      "outputs": [
        {
          "name": "stdout",
          "output_type": "stream",
          "text": [
            "Prediction: negative\n"
          ]
        }
      ],
      "source": [
        "#Testing the model\n",
        "pre = SVCmodel.predict([\"I think this is my first review. This series is so bad I had to write one. I don't understand the good score. I have tried on 2 separate occasions to watch this show. Haven't even gotten past the 2nd episode because it is SO BORING.\"])\n",
        "print(f'Prediction: {pre[0]}')"
      ]
    },
    {
      "cell_type": "code",
      "execution_count": null,
      "metadata": {
        "colab": {
          "base_uri": "https://localhost:8080/"
        },
        "id": "EjtBeh8007Bd",
        "outputId": "7f6a2514-2bdf-450f-a52c-e1a4cb0828c6"
      },
      "outputs": [
        {
          "name": "stdout",
          "output_type": "stream",
          "text": [
            "Prediction: positive\n"
          ]
        }
      ],
      "source": [
        "pre = SVCmodel.predict([\"Henry cavill nailed the role perfectly. The fight scenes, the music, the cinematography, the whole atmosphere is beyond amazing. Netflix did it again\"])\n",
        "print(f'Prediction: {pre[0]}')"
      ]
    },
    {
      "cell_type": "code",
      "execution_count": null,
      "metadata": {
        "colab": {
          "base_uri": "https://localhost:8080/"
        },
        "id": "cURDNm1W3NB4",
        "outputId": "ecadb267-cf7b-4e7a-aad3-d8dda56a3c25"
      },
      "outputs": [
        {
          "name": "stdout",
          "output_type": "stream",
          "text": [
            "Prediction: positive\n"
          ]
        }
      ],
      "source": [
        "pre=LRmodel.predict([\"Thor is a film that takes risks - and they pay off wonderfully. The movie grounds itself in reality while keeping a mythological and fantasy-esqe tone, and it never loses sight of the humanity within the characters, with elevates this above standard superhero fare.\"])\n",
        "print(f'Prediction: {pre[0]}')"
      ]
    },
    {
      "cell_type": "code",
      "execution_count": null,
      "metadata": {
        "colab": {
          "base_uri": "https://localhost:8080/"
        },
        "id": "LGhN9u2L4dOu",
        "outputId": "570c8b53-b370-4a00-a017-404125b6a731"
      },
      "outputs": [
        {
          "name": "stdout",
          "output_type": "stream",
          "text": [
            "Prediction: negative\n"
          ]
        }
      ],
      "source": [
        "pre=LRmodel.predict([\"Movies are always full of holes without any logic, this film, although shot with some beautiful road scenes, sunrise and sunset, desert....yet the whole story was just based on a ridiculous ground\"])\n",
        "print(f'Prediction: {pre[0]}')"
      ]
    }
  ],
  "metadata": {
    "accelerator": "GPU",
    "colab": {
      "collapsed_sections": [],
      "provenance": []
    },
    "gpuClass": "standard",
    "kernelspec": {
      "display_name": "Python 3",
      "name": "python3"
    },
    "language_info": {
      "name": "python"
    }
  },
  "nbformat": 4,
  "nbformat_minor": 0
}